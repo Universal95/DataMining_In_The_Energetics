{
 "cells": [
  {
   "cell_type": "code",
   "execution_count": 36,
   "metadata": {
    "collapsed": true
   },
   "outputs": [],
   "source": [
    "import requests\n",
    "import re\n",
    "from bs4 import BeautifulSoup as bsoup\n",
    "import numpy as np\n",
    "import datetime\n",
    "from dateutil import parser\n",
    "import pandas as pd"
   ]
  },
  {
   "cell_type": "code",
   "execution_count": 37,
   "metadata": {
    "collapsed": true
   },
   "outputs": [],
   "source": [
    "  header = [\"date\", \"max\", \"min\", \"csap\", \"ho\"]"
   ]
  },
  {
   "cell_type": "code",
   "execution_count": 90,
   "metadata": {
    "collapsed": false
   },
   "outputs": [
    {
     "name": "stdout",
     "output_type": "stream",
     "text": [
      "[['2016.03.01.' '8' '2' '18' '0']\n",
      " ['2016.03.02.' '10' '2' '0' '0']\n",
      " ['2016.03.03.' '10' '2' '2' '0']\n",
      " ['2016.03.04.' '13' '1' '0' '0']\n",
      " ['2016.03.05.' '11' '0' '0' '0']\n",
      " ['2016.03.06.' '12' '5' '2' '0']\n",
      " ['2016.03.07.' '8' '5' '15' '0']\n",
      " ['2016.03.08.' '10' '2' '0' '0']\n",
      " ['2016.03.09.' '12' '1' '0' '0']\n",
      " ['2016.03.10.' '15' '4' '0' '0']\n",
      " ['2016.03.11.' '15' '8' '0' '0']\n",
      " ['2016.03.12.' '11' '7' '0' '0']\n",
      " ['2016.03.13.' '13' '5' '0' '0']\n",
      " ['2016.03.14.' '12' '1' '0' '0']\n",
      " ['2016.03.15.' '4' '1' '7' '0']\n",
      " ['2016.03.16.' '10' '1' '0' '0']\n",
      " ['2016.03.17.' '13' '-1' '0' '0']\n",
      " ['2016.03.18.' '14' '-1' '0' '0']\n",
      " ['2016.03.19.' '12' '1' '0' '0']\n",
      " ['2016.03.20.' '12' '-1' '0' '0']\n",
      " ['2016.03.21.' '12' '2' '0' '0']\n",
      " ['2016.03.22.' '13' '2' '0' '0']\n",
      " ['2016.03.23.' '10' '2' '0' '0']\n",
      " ['2016.03.24.' '12' '0' '0' '0']\n",
      " ['2016.03.25.' '11' '-2' '0' '0']\n",
      " ['2016.03.26.' '11' '5' '0' '0']\n",
      " ['2016.03.27.' '12' '1' '0' '0']\n",
      " ['2016.03.28.' '13' '1' '0' '0']\n",
      " ['2016.03.29.' '15' '5' '2' '0']\n",
      " ['2016.03.30.' '18' '5' '0' '0']\n",
      " ['2016.03.31.' '22' '6' '0' '0']]\n"
     ]
    },
    {
     "name": "stderr",
     "output_type": "stream",
     "text": [
      "/Users/krisz/anaconda3/lib/python3.6/site-packages/bs4/__init__.py:181: UserWarning: No parser was explicitly specified, so I'm using the best available HTML parser for this system (\"lxml\"). This usually isn't a problem, but if you run this code on another system, or in a different virtual environment, it may use a different parser and behave differently.\n",
      "\n",
      "The code that caused this warning is on line 193 of the file /Users/krisz/anaconda3/lib/python3.6/runpy.py. To get rid of this warning, change code that looks like this:\n",
      "\n",
      " BeautifulSoup([your markup])\n",
      "\n",
      "to this:\n",
      "\n",
      " BeautifulSoup([your markup], \"lxml\")\n",
      "\n",
      "  markup_type=markup_type))\n"
     ]
    }
   ],
   "source": [
    "URL = 'https://www.accuweather.com/hu/hu/budapest/187423/march-weather/187423?monyr=3/1/2016&view=table'\n",
    "response = requests.get(URL)\n",
    "html = response.content.decode(\"utf-8\").replace(u\"\\u0151\", \"o\")\n",
    "\n",
    "soup = bsoup(html)\n",
    "soup.prettify()\n",
    "\n",
    "database = np.array([])\n",
    "database_row = []\n",
    "ndays = 0\n",
    "table = soup.findAll(\"table\", {\"class\" : \"calendar-list\"})\n",
    "#print(table)\n",
    "for row in table[0].find_all(\"tr\", {\"class\" : \"pre\"}):\n",
    "    ndays = ndays + 1\n",
    "    data_row = []\n",
    "    database_row = []\n",
    "    data_row.append(row.find(\"time\").get_text())\n",
    "    for td in row.find_all(\"td\"):\n",
    "        data_row.append(td.get_text())\n",
    "#        print(td.get_text())\n",
    "#    data_row.append(td.get_text() for td in row.find_all(\"td\"))\n",
    "#    print(\"2016.\"+data_row[0])\n",
    "    database_row.append(\"2016.\"+data_row[0])\n",
    "    database_row.append(str(data_row[1]).rsplit('°/')[0])\n",
    "    database_row.append(str(data_row[1]).rsplit('°/')[1][:-1])\n",
    "    database_row.append(data_row[2][:-3])\n",
    "    database_row.append(data_row[3][:-3])\n",
    "    database = np.append(database, database_row, axis=0)\n",
    "    #print(database_row)\n",
    "\n",
    "    \n",
    "#database = database.drop()\n",
    "print(database.reshape(ndays,5))"
   ]
  },
  {
   "cell_type": "code",
   "execution_count": null,
   "metadata": {
    "collapsed": true
   },
   "outputs": [],
   "source": []
  }
 ],
 "metadata": {
  "kernelspec": {
   "display_name": "Python 3",
   "language": "python",
   "name": "python3"
  },
  "language_info": {
   "codemirror_mode": {
    "name": "ipython",
    "version": 3
   },
   "file_extension": ".py",
   "mimetype": "text/x-python",
   "name": "python",
   "nbconvert_exporter": "python",
   "pygments_lexer": "ipython3",
   "version": "3.6.0"
  }
 },
 "nbformat": 4,
 "nbformat_minor": 2
}
