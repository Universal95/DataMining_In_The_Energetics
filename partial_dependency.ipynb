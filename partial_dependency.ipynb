{
 "cells": [
  {
   "cell_type": "markdown",
   "metadata": {},
   "source": [
    "# Partial Dependency vizsgálat"
   ]
  },
  {
   "cell_type": "code",
   "execution_count": 18,
   "metadata": {
    "collapsed": true
   },
   "outputs": [],
   "source": [
    "import pandas as pd\n",
    "import numpy as np\n",
    "from datetime import datetime, timedelta, date\n",
    "import os\n",
    "from sklearn.ensemble import GradientBoostingRegressor\n",
    "from sklearn import linear_model, datasets\n",
    "from sklearn.neighbors import KNeighborsClassifier\n",
    "import matplotlib.pyplot as plt"
   ]
  },
  {
   "cell_type": "code",
   "execution_count": 19,
   "metadata": {
    "collapsed": true
   },
   "outputs": [],
   "source": [
    "def mape(actual, predicted):\n",
    "    return np.mean(np.abs((actual - predicted) / actual)) * 100"
   ]
  },
  {
   "cell_type": "code",
   "execution_count": 54,
   "metadata": {
    "collapsed": false
   },
   "outputs": [
    {
     "name": "stdout",
     "output_type": "stream",
     "text": [
      "MAPE: 4.7668743337898345 % on temperature: -9\n",
      "MAPE: 4.7646776517386265 % on temperature: -8\n",
      "MAPE: 4.765849572814542 % on temperature: -7\n",
      "MAPE: 4.764340439479372 % on temperature: -6\n",
      "MAPE: 4.763241075450756 % on temperature: -5\n",
      "MAPE: 4.612141927766998 % on temperature: -4\n",
      "MAPE: 4.489360790438814 % on temperature: -3\n",
      "MAPE: 3.047352811583441 % on temperature: -2\n",
      "MAPE: 2.8976115695466236 % on temperature: -1\n",
      "MAPE: 2.880618712041385 % on temperature: 0\n",
      "MAPE: 2.880710140914135 % on temperature: 1\n",
      "MAPE: 2.8105338585335775 % on temperature: 2\n",
      "MAPE: 2.810667785698454 % on temperature: 3\n",
      "MAPE: 2.571771022641495 % on temperature: 4\n",
      "MAPE: 2.57283722819892 % on temperature: 5\n",
      "MAPE: 2.5299672874543413 % on temperature: 6\n",
      "MAPE: 2.5095193565572487 % on temperature: 7\n",
      "MAPE: 2.4862747276667427 % on temperature: 8\n",
      "MAPE: 2.491060259774692 % on temperature: 9\n",
      "MAPE: 2.4913974720339414 % on temperature: 10\n",
      "MAPE: 2.5164400979959827 % on temperature: 11\n",
      "MAPE: 2.5167983110704006 % on temperature: 12\n",
      "MAPE: 2.5165976381231445 % on temperature: 13\n",
      "MAPE: 2.51693485038239 % on temperature: 14\n",
      "MAPE: 2.5165976381231463 % on temperature: 15\n",
      "MAPE: 2.7748475228545377 % on temperature: 16\n",
      "MAPE: 2.6541139829213782 % on temperature: 17\n",
      "MAPE: 2.655431841269285 % on temperature: 18\n",
      "MAPE: 2.6554318412692894 % on temperature: 19\n",
      "MAPE: 2.6554318412692837 % on temperature: 20\n",
      "MAPE: 2.655431841269286 % on temperature: 21\n",
      "MAPE: 2.655431841269286 % on temperature: 22\n",
      "MAPE: 2.6554318412692837 % on temperature: 23\n",
      "MAPE: 2.655431841269286 % on temperature: 24\n",
      "MAPE: 2.6554318412692828 % on temperature: 25\n",
      "MAPE: 2.561570135277356 % on temperature: 26\n",
      "MAPE: 2.5491370853364432 % on temperature: 27\n",
      "MAPE: 2.4894465471046257 % on temperature: 28\n",
      "MAPE: 2.4895749213084417 % on temperature: 29\n",
      "MAPE: 2.4918304968981224 % on temperature: 30\n",
      "MAPE: 2.4967880094273784 % on temperature: 31\n",
      "MAPE: 2.5222214014349627 % on temperature: 32\n",
      "MAPE: 3.707880193515062 % on temperature: 33\n",
      "MAPE: 3.7666624663078583 % on temperature: 34\n",
      "        mape  temp\n",
      "0   4.766874  -9.0\n",
      "1   4.764678  -8.0\n",
      "2   4.765850  -7.0\n",
      "3   4.764340  -6.0\n",
      "4   4.763241  -5.0\n",
      "5   4.612142  -4.0\n",
      "6   4.489361  -3.0\n",
      "7   3.047353  -2.0\n",
      "8   2.897612  -1.0\n",
      "9   2.880619   0.0\n",
      "10  2.880710   1.0\n",
      "11  2.810534   2.0\n",
      "12  2.810668   3.0\n",
      "13  2.571771   4.0\n",
      "14  2.572837   5.0\n",
      "15  2.529967   6.0\n",
      "16  2.509519   7.0\n",
      "17  2.486275   8.0\n",
      "18  2.491060   9.0\n",
      "19  2.491397  10.0\n",
      "20  2.516440  11.0\n",
      "21  2.516798  12.0\n",
      "22  2.516598  13.0\n",
      "23  2.516935  14.0\n",
      "24  2.516598  15.0\n",
      "25  2.774848  16.0\n",
      "26  2.654114  17.0\n",
      "27  2.655432  18.0\n",
      "28  2.655432  19.0\n",
      "29  2.655432  20.0\n",
      "30  2.655432  21.0\n",
      "31  2.655432  22.0\n",
      "32  2.655432  23.0\n",
      "33  2.655432  24.0\n",
      "34  2.655432  25.0\n",
      "35  2.561570  26.0\n",
      "36  2.549137  27.0\n",
      "37  2.489447  28.0\n",
      "38  2.489575  29.0\n",
      "39  2.491830  30.0\n",
      "40  2.496788  31.0\n",
      "41  2.522221  32.0\n",
      "42  3.707880  33.0\n",
      "43  3.766662  34.0\n"
     ]
    },
    {
     "data": {
      "image/png": "[encoded data removed]",
      "text/plain": [
       "<matplotlib.figure.Figure at 0x11b7bd1d0>"
      ]
     },
     "metadata": {},
     "output_type": "display_data"
    }
   ],
   "source": [
    "data = pd.read_csv('Data_Expansion.csv')\n",
    "\n",
    "TARGET = 'system_load'\n",
    "data['target'] = data[TARGET].copy()\n",
    "data.__delitem__(TARGET)\n",
    "data.__delitem__('min')\n",
    "data.__delitem__('rain')\n",
    "data.__delitem__('snow')\n",
    "data.__delitem__('avg_max')\n",
    "data.__delitem__('avg_min')\n",
    "data.__delitem__('export')\n",
    "data.__delitem__('import')\n",
    "data.__delitem__('avg_sysload')\n",
    "data.__delitem__('avg_import')\n",
    "data.__delitem__('avg_export')\n",
    "data.__delitem__('std_sysload')\n",
    "data.__delitem__('std_import')\n",
    "data.__delitem__('std_export')\n",
    "\n",
    "for x in [24,48,96,168]:\n",
    "    data[\"Lag\"+str(x)]=data['target'].shift(x) \n",
    "data = data.rename(index=str, columns={'max': 'temp'})    \n",
    "data = data.dropna()\n",
    "results = pd.DataFrame(columns = {'mape', 'temp'})\n",
    "\n",
    "train = data.drop(['date', 'target'], axis=1)\n",
    "\n",
    "for temp in range(data['temp'].min(), data['temp'].max()):\n",
    "    model = GradientBoostingRegressor(n_estimators=100, learning_rate=0.1)\n",
    "    test = data.drop(['date', 'target'], axis=1)\n",
    "    test['temp'] = temp\n",
    "    model.fit(train, data['target'])\n",
    "    test['prediction'] = model.predict(test)\n",
    "    results.loc[len(results)] = ([mape(data['target'], test['prediction']), temp])\n",
    "    print('MAPE: {} % on temperature: {}'.format(mape(data['target'], test['prediction']), temp)) \n",
    "    test = []\n",
    "    model = []\n",
    "\n",
    "print(results)    \n",
    "plt.scatter(results['temp'], results['mape'])\n",
    "plt.xlabel('Hőmérséklet')\n",
    "plt.ylabel('Eredmény')\n",
    "plt.axis([-10, 40, 1, 5])\n",
    "plt.show()"
   ]
  },
  {
   "cell_type": "code",
   "execution_count": null,
   "metadata": {
    "collapsed": true
   },
   "outputs": [],
   "source": []
  }
 ],
 "metadata": {
  "kernelspec": {
   "display_name": "Python 3",
   "language": "python",
   "name": "python3"
  },
  "language_info": {
   "codemirror_mode": {
    "name": "ipython",
    "version": 3
   },
   "file_extension": ".py",
   "mimetype": "text/x-python",
   "name": "python",
   "nbconvert_exporter": "python",
   "pygments_lexer": "ipython3",
   "version": "3.6.0"
  }
 },
 "nbformat": 4,
 "nbformat_minor": 2
}
