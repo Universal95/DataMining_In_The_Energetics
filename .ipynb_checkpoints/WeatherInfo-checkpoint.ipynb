{
 "cells": [
  {
   "cell_type": "code",
   "execution_count": 39,
   "metadata": {
    "collapsed": false
   },
   "outputs": [],
   "source": [
    "import requests\n",
    "import re\n",
    "from bs4 import BeautifulSoup as bsoup\n",
    "import numpy as np\n",
    "import datetime\n",
    "from dateutil import parser\n",
    "import pandas as pd\n",
    "import math\n",
    "import csv"
   ]
  },
  {
   "cell_type": "code",
   "execution_count": 37,
   "metadata": {
    "collapsed": false
   },
   "outputs": [
    {
     "name": "stdout",
     "output_type": "stream",
     "text": [
      "[[2016, 'january', 1], [2016, 'february', 2], [2016, 'march', 3], [2016, 'april', 4], [2016, 'may', 5], [2016, 'june', 6], [2016, 'july', 7], [2016, 'august', 8], [2016, 'september', 9], [2016, 'october', 10], [2016, 'november', 11], [2016, 'december', 12], [2017, 'january', 1], [2017, 'february', 2], [2017, 'march', 3]]\n"
     ]
    }
   ],
   "source": [
    "STARTING_YEAR = 2016\n",
    "header = [\"date\", \"max\", \"min\", \"rain\", \"snow\", 'avg_max', 'avg_min']\n",
    "month = []\n",
    "months = []\n",
    "n_month = 1\n",
    "for i in range(1, int((datetime.datetime.now().year - STARTING_YEAR)*12 + datetime.datetime.now().month)+1):\n",
    "    month.append(math.ceil(i/12)+STARTING_YEAR-1)\n",
    "    month.append(str(datetime.date(STARTING_YEAR, n_month , 1).strftime('%B')).lower())\n",
    "    month.append(n_month)\n",
    "    n_month += 1\n",
    "    if (n_month == 13):\n",
    "        n_month = 1\n",
    "    months.append(month)\n",
    "    month = []\n",
    "print(months)\n"
   ]
  },
  {
   "cell_type": "code",
   "execution_count": 47,
   "metadata": {
    "collapsed": false
   },
   "outputs": [
    {
     "name": "stderr",
     "output_type": "stream",
     "text": [
      "/Users/krisz/anaconda3/lib/python3.6/site-packages/bs4/__init__.py:181: UserWarning: No parser was explicitly specified, so I'm using the best available HTML parser for this system (\"lxml\"). This usually isn't a problem, but if you run this code on another system, or in a different virtual environment, it may use a different parser and behave differently.\n",
      "\n",
      "The code that caused this warning is on line 193 of the file /Users/krisz/anaconda3/lib/python3.6/runpy.py. To get rid of this warning, change code that looks like this:\n",
      "\n",
      " BeautifulSoup([your markup])\n",
      "\n",
      "to this:\n",
      "\n",
      " BeautifulSoup([your markup], \"lxml\")\n",
      "\n",
      "  markup_type=markup_type))\n"
     ]
    },
    {
     "name": "stdout",
     "output_type": "stream",
     "text": [
      "            date max  min rain snow avg_max avg_min\n",
      "0    2016.01.01.  -3  -10    0    0       2      -2\n",
      "1    2016.01.02.  -5   -8    0  0.5       2      -2\n",
      "2    2016.01.03.  -4  -11    0    0       2      -2\n",
      "3    2016.01.04.  -7  -12    4  5.1       2      -3\n",
      "4    2016.01.05.  -4   -8    0  0.5       2      -3\n",
      "5    2016.01.06.   0   -5    4  4.1       2      -3\n",
      "6    2016.01.07.   4   -6    0    0       2      -3\n",
      "7    2016.01.08.  -1   -7    0    0       2      -3\n",
      "8    2016.01.09.   1   -3   12    0       2      -3\n",
      "9    2016.01.10.   3    0   12    0       2      -3\n",
      "10   2016.01.11.   8    0   11    0       2      -3\n",
      "11   2016.01.12.   9    3    0    0       2      -3\n",
      "12   2016.01.13.   9    1    1    0       2      -3\n",
      "13   2016.01.14.   7    0    1    0       2      -3\n",
      "14   2016.01.15.   4    0    2    0       2      -3\n",
      "15   2016.01.16.   5   -1    0    0       2      -3\n",
      "16   2016.01.17.  -1   -4    0    0       2      -3\n",
      "17   2016.01.18.   0   -8    0    0       2      -3\n",
      "18   2016.01.19.  -1  -10    0    0       2      -3\n",
      "19   2016.01.20.   0   -5    0    0       2      -3\n",
      "20   2016.01.21.   1   -5    0    0       2      -3\n",
      "21   2016.01.22.   1   -9    0    0       2      -3\n",
      "22   2016.01.23.  -1  -10    0    0       2      -3\n",
      "23   2016.01.24.  -1   -4    2  4.1       2      -3\n",
      "24   2016.01.25.   2   -2    3    0       2      -3\n",
      "25   2016.01.26.   3    0    0    0       2      -3\n",
      "26   2016.01.27.   2   -1    0    0       3      -3\n",
      "27   2016.01.28.   9   -1    0    0       3      -3\n",
      "28   2016.01.29.   7   -1    1    0       3      -3\n",
      "29   2016.01.30.   9   -2    0    0       3      -3\n",
      "..           ...  ..  ...  ...  ...     ...     ...\n",
      "425  2017.03.01.  11    2    5    0       7      -1\n",
      "426  2017.03.02.  13   -1    0    0       7       0\n",
      "427  2017.03.03.  14    2    0    0       8       0\n",
      "428  2017.03.04.  19    4    0    0       8       0\n",
      "429  2017.03.05.  13    7    9    0       8       1\n",
      "430  2017.03.06.  12    2    1    0       8       1\n",
      "431  2017.03.07.  13    0    0    0       8       1\n",
      "432  2017.03.08.  15    6    0    0       9       1\n",
      "433  2017.03.09.  12    5    1    0       9       1\n",
      "434  2017.03.10.   7    4   18    0       9       1\n",
      "435  2017.03.11.  12    2    0    0       9       1\n",
      "436  2017.03.12.   9    4    0    0       9       1\n",
      "437  2017.03.13.  13    2    0    0       9       2\n",
      "438  2017.03.14.  12    2    0    0      10       2\n",
      "439  2017.03.15.  12    0    0    0      10       2\n",
      "440  2017.03.16.  14    1    0    0      11       2\n",
      "441  2017.03.17.  14    2    3    0      11       2\n",
      "442  2017.03.18.  11    7   10    0      11       2\n",
      "443  2017.03.19.  12    6    4    0      11       2\n",
      "444  2017.03.20.  16    5    0    0      11       3\n",
      "445  2017.03.21.  20    6    0    0      11       3\n",
      "446  2017.03.22.  23    9    0    0      12       3\n",
      "447  2017.03.23.  22   10    0    0      12       3\n",
      "448  2017.03.24.  20    8    0    0      12       3\n",
      "449  2017.03.25.  15    8    0    0      12       3\n",
      "450  2017.03.26.  13    3    0    0      12       3\n",
      "451  2017.03.27.  15    0    0    0      13       3\n",
      "452  2017.03.28.  21    1    0    0      13       4\n",
      "453  2017.03.29.  22    5    0    0      13       4\n",
      "454  2017.03.30.  20    9    0    0      13       4\n",
      "\n",
      "[455 rows x 7 columns]\n"
     ]
    }
   ],
   "source": [
    "database = np.array([])\n",
    "processed_days = 0\n",
    "for i in range(0, len(months)):\n",
    "    URL = ('https://www.accuweather.com/hu/hu/budapest/187423/' + str(months[i][1]) +\n",
    "        '-weather/187423?monyr=' + str(months[i][2]) + '/1/' + str(months[i][0]) + '&view=table')\n",
    "    \n",
    "    print(URL)    \n",
    "    response = requests.get(URL)\n",
    "    html = response.content.decode(\"utf-8\").replace(u\"\\u0151\", \"o\")\n",
    "    soup = bsoup(html)\n",
    "\n",
    "    database_row = []\n",
    "    table = soup.findAll(\"table\", {\"class\" : \"calendar-list\"})\n",
    "    \n",
    "    for row in table[0].find_all(\"tr\", {\"class\" : \"pre\"}):\n",
    "        data_row = []\n",
    "        database_row = []\n",
    "        data_row.append(row.find(\"time\").get_text())\n",
    "\n",
    "        for td in row.find_all(\"td\"):\n",
    "            data_row.append(td.get_text())\n",
    "        \n",
    "        database_row.append(str(months[i][0]) + '.' + data_row[0])\n",
    "        database_row.append(str(data_row[1]).rsplit('°/')[0])\n",
    "        database_row.append(str(data_row[1]).rsplit('°/')[1][:-1])\n",
    "        database_row.append(data_row[2][:-3])\n",
    "        database_row.append(data_row[3][:-3])\n",
    "        database_row.append(str(data_row[5]).rsplit('°/')[0])\n",
    "        database_row.append(str(data_row[5]).rsplit('°/')[1][:-1])\n",
    "        database = np.append(database, database_row, axis=0)\n",
    "        processed_days += 1\n",
    "\n",
    "\n",
    "database = database.reshape(processed_days,7)\n",
    "database = pd.DataFrame(database, columns=header)\n",
    "print(database)\n",
    "with open(\"weather_info.csv\", \"w\") as f:\n",
    "    writer = csv.writer(f)\n",
    "    writer.writerows(database)"
   ]
  },
  {
   "cell_type": "code",
   "execution_count": null,
   "metadata": {
    "collapsed": true
   },
   "outputs": [],
   "source": []
  }
 ],
 "metadata": {
  "kernelspec": {
   "display_name": "Python 3",
   "language": "python",
   "name": "python3"
  },
  "language_info": {
   "codemirror_mode": {
    "name": "ipython",
    "version": 3
   },
   "file_extension": ".py",
   "mimetype": "text/x-python",
   "name": "python",
   "nbconvert_exporter": "python",
   "pygments_lexer": "ipython3",
   "version": "3.6.0"
  }
 },
 "nbformat": 4,
 "nbformat_minor": 2
}
